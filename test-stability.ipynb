{
 "cells": [
  {
   "cell_type": "markdown",
   "metadata": {},
   "source": [
    "## Verify long-term stabily of integration"
   ]
  },
  {
   "cell_type": "code",
   "execution_count": 1,
   "metadata": {
    "collapsed": false
   },
   "outputs": [],
   "source": [
    "%matplotlib notebook\n",
    "\n",
    "import warnings\n",
    "warnings.simplefilter(\"always\", RuntimeWarning)\n",
    "\n",
    "import numpy as np\n",
    "import matplotlib.pyplot as plt\n",
    "\n",
    "import gravbin as gb\n",
    "\n",
    "\n",
    "def absolute_difference(a1, a2):\n",
    "    return np.absolute(a1 - a2)"
   ]
  },
  {
   "cell_type": "code",
   "execution_count": null,
   "metadata": {
    "collapsed": true
   },
   "outputs": [],
   "source": [
    "steps_dense = np.linspace(0, np.pi*2*10, 10**3)\n",
    "steps_long  = np.linspace(0, np.pi*2*10000, 10**3)\n",
    "steps_period = 2*np.pi*(np.random.random() + np.arange(10**3))\n",
    "    # all have 10**5 sampling points"
   ]
  },
  {
   "cell_type": "markdown",
   "metadata": {},
   "source": [
    "### binary + 0 particles"
   ]
  },
  {
   "cell_type": "markdown",
   "metadata": {},
   "source": [
    "#### circular binary stays circular"
   ]
  },
  {
   "cell_type": "code",
   "execution_count": null,
   "metadata": {
    "collapsed": false
   },
   "outputs": [],
   "source": [
    "test_sim = gb.BinarySim(mass_ratio=0.6)\n",
    "test_sim.run(steps_dense)\n",
    "r1 = np.sqrt(test_sim.paths[\"binary\"][\"pos\"][0, 0, :]**2 +\n",
    "             test_sim.paths[\"binary\"][\"pos\"][0, 1, :]**2)\n",
    "r2 = np.sqrt(test_sim.paths[\"binary\"][\"pos\"][1, 0, :]**2 +\n",
    "             test_sim.paths[\"binary\"][\"pos\"][1, 1, :]**2)\n",
    "r1_error = absolute_difference(r1, 0.4)/0.4  # Kepler radii are 0.4, 0.6\n",
    "r2_error = absolute_difference(r2, 0.6)/0.6\n",
    "print \"dense sample:\", r1_error.max(), r2_error.max()\n",
    "\n",
    "test_sim = gb.BinarySim(mass_ratio=0.6)\n",
    "test_sim.run(steps_long)\n",
    "r1 = np.sqrt(test_sim.paths[\"binary\"][\"pos\"][0, 0, :]**2 +\n",
    "             test_sim.paths[\"binary\"][\"pos\"][0, 1, :]**2)\n",
    "r2 = np.sqrt(test_sim.paths[\"binary\"][\"pos\"][1, 0, :]**2 +\n",
    "             test_sim.paths[\"binary\"][\"pos\"][1, 1, :]**2)\n",
    "r1_error = absolute_difference(r1, 0.4)/0.4  # Kepler radii are 0.4, 0.6\n",
    "r2_error = absolute_difference(r2, 0.6)/0.6\n",
    "print \" long sample:\", r1_error.max(), r2_error.max()"
   ]
  },
  {
   "cell_type": "markdown",
   "metadata": {},
   "source": [
    "#### periodicity of elliptical binary"
   ]
  },
  {
   "cell_type": "code",
   "execution_count": null,
   "metadata": {
    "collapsed": false
   },
   "outputs": [],
   "source": [
    "test_sim = gb.BinarySim(mass_ratio=0.8, eccentricity=0.4)\n",
    "test_sim.run(steps_period)\n",
    "\n",
    "delta_x1  = absolute_difference(test_sim.paths[\"binary\"][\"pos\"][0, 0, 0],\n",
    "                                test_sim.paths[\"binary\"][\"pos\"][0, 0, :])\n",
    "delta_y1  = absolute_difference(test_sim.paths[\"binary\"][\"pos\"][0, 1, 0],\n",
    "                                test_sim.paths[\"binary\"][\"pos\"][0, 1, :])\n",
    "delta_vx1 = absolute_difference(test_sim.paths[\"binary\"][\"vel\"][0, 0, 0],\n",
    "                                test_sim.paths[\"binary\"][\"vel\"][0, 0, :])\n",
    "delta_vy1 = absolute_difference(test_sim.paths[\"binary\"][\"vel\"][0, 1, 0],\n",
    "                                test_sim.paths[\"binary\"][\"vel\"][0, 1, :])\n",
    "fig, ax = plt.subplots()\n",
    "ax.plot(delta_x1, label='x1', alpha=0.6)\n",
    "ax.plot(delta_y1, label='y1', alpha=0.6)\n",
    "ax.plot(delta_vx1, label='vx1', alpha=0.6)\n",
    "ax.plot(delta_vy1, label='vy1', alpha=0.6)\n",
    "ax.set_yscale(\"log\")"
   ]
  },
  {
   "cell_type": "markdown",
   "metadata": {},
   "source": [
    "## binary + n particles"
   ]
  },
  {
   "cell_type": "code",
   "execution_count": null,
   "metadata": {
    "collapsed": true
   },
   "outputs": [],
   "source": [
    "pos = np.zeros((9, 3))\n",
    "starting_x = [0, -0.3, -0.6, -0.9, -1.2, 0.15, 0.45, 0.75, 1.05]\n",
    "pos[:, 0] = starting_x\n",
    "vel = np.zeros(pos.shape)\n",
    "    # line of stationary test particles"
   ]
  },
  {
   "cell_type": "markdown",
   "metadata": {},
   "source": [
    "#### circular binary stays circular"
   ]
  },
  {
   "cell_type": "code",
   "execution_count": null,
   "metadata": {
    "collapsed": false,
    "scrolled": true
   },
   "outputs": [],
   "source": [
    "test_sim = gb.BinarySim(mass_ratio=0.6)\n",
    "test_sim.add_test_particles(pos, vel)\n",
    "test_sim.run(steps_dense)\n",
    "r1 = np.sqrt(test_sim.paths[\"binary\"][\"pos\"][0, 0, :]**2 +\n",
    "             test_sim.paths[\"binary\"][\"pos\"][0, 1, :]**2)\n",
    "r2 = np.sqrt(test_sim.paths[\"binary\"][\"pos\"][1, 0, :]**2 +\n",
    "             test_sim.paths[\"binary\"][\"pos\"][1, 1, :]**2)\n",
    "r1_error = absolute_difference(r1, 0.4)/0.4  # Kepler radii are 0.4, 0.6\n",
    "r2_error = absolute_difference(r2, 0.6)/0.6\n",
    "print \"dense sample:\", r1_error.max(), r2_error.max()\n",
    "\n",
    "test_sim = gb.BinarySim(mass_ratio=0.6)\n",
    "test_sim.add_test_particles(pos, vel)\n",
    "test_sim.run(steps_long)\n",
    "r1 = np.sqrt(test_sim.paths[\"binary\"][\"pos\"][0, 0, :]**2 +\n",
    "             test_sim.paths[\"binary\"][\"pos\"][0, 1, :]**2)\n",
    "r2 = np.sqrt(test_sim.paths[\"binary\"][\"pos\"][1, 0, :]**2 +\n",
    "             test_sim.paths[\"binary\"][\"pos\"][1, 1, :]**2)\n",
    "r1_error = absolute_difference(r1, 0.4)/0.4  # Kepler radii are 0.4, 0.6\n",
    "r2_error = absolute_difference(r2, 0.6)/0.6\n",
    "print \" long sample:\", r1_error.max(), r2_error.max()"
   ]
  },
  {
   "cell_type": "markdown",
   "metadata": {},
   "source": [
    "#### test particles are massless"
   ]
  },
  {
   "cell_type": "code",
   "execution_count": null,
   "metadata": {
    "collapsed": true
   },
   "outputs": [],
   "source": [
    "test_sim_single = gb.BinarySim(mass_ratio=0.6)\n",
    "test_sim_single.add_test_particles([pos[-1]], [vel[-1]])\n",
    "    # add only the last of the nine test particles used above\n",
    "test_sim_single.run(steps_long)\n",
    "withtestparticles_path = test_sim.paths[\"test\"][\"pos\"][-1]\n",
    "solo_path = test_sim_single.paths[\"test\"][\"pos\"] \n",
    "print \"solo vs test:\", absolute_difference(withtestparticles_path,\n",
    "                                           solo_path)"
   ]
  },
  {
   "cell_type": "markdown",
   "metadata": {},
   "source": [
    "#### periodicity of elliptical binary"
   ]
  },
  {
   "cell_type": "code",
   "execution_count": null,
   "metadata": {
    "collapsed": true
   },
   "outputs": [],
   "source": [
    "test_sim = gb.BinarySim(mass_ratio=0.8, eccentricity=0.4)\n",
    "test_sim.add_test_particles(pos, vel)\n",
    "test_sim.run(steps_period)\n",
    "\n",
    "delta_x1  = absolute_difference(test_sim.paths[\"binary\"][\"pos\"][0, 0, 0],\n",
    "                                test_sim.paths[\"binary\"][\"pos\"][0, 0, :])\n",
    "delta_y1  = absolute_difference(test_sim.paths[\"binary\"][\"pos\"][0, 1, 0],\n",
    "                                test_sim.paths[\"binary\"][\"pos\"][0, 1, :])\n",
    "delta_vx1 = absolute_difference(test_sim.paths[\"binary\"][\"vel\"][0, 0, 0],\n",
    "                                test_sim.paths[\"binary\"][\"vel\"][0, 0, :])\n",
    "delta_vy1 = absolute_difference(test_sim.paths[\"binary\"][\"vel\"][0, 1, 0],\n",
    "                                test_sim.paths[\"binary\"][\"vel\"][0, 1, :])\n",
    "fig, ax = plt.subplots()\n",
    "ax.plot(delta_x1, label='x1', alpha=0.6)\n",
    "ax.plot(delta_y1, label='y1', alpha=0.6)\n",
    "ax.plot(delta_vx1, label='vx1', alpha=0.6)\n",
    "ax.plot(delta_vy1, label='vy1', alpha=0.6)\n",
    "ax.set_yscale(\"log\")"
   ]
  },
  {
   "cell_type": "markdown",
   "metadata": {},
   "source": [
    "### To Add:\n",
    " - integration with large n \n",
    " - calculation of Jacobi constants with time\n",
    " - time-reversal check "
   ]
  },
  {
   "cell_type": "code",
   "execution_count": null,
   "metadata": {
    "collapsed": true
   },
   "outputs": [],
   "source": []
  }
 ],
 "metadata": {
  "kernelspec": {
   "display_name": "Python 2",
   "language": "python",
   "name": "python2"
  },
  "language_info": {
   "codemirror_mode": {
    "name": "ipython",
    "version": 2
   },
   "file_extension": ".py",
   "mimetype": "text/x-python",
   "name": "python",
   "nbconvert_exporter": "python",
   "pygments_lexer": "ipython2",
   "version": "2.7.11"
  }
 },
 "nbformat": 4,
 "nbformat_minor": 0
}
